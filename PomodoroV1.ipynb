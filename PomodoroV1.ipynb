{
 "cells": [
  {
   "cell_type": "markdown",
   "metadata": {},
   "source": [
    "PomodoroAutoTracker"
   ]
  },
  {
   "cell_type": "markdown",
   "metadata": {},
   "source": [
    "# App Design \"UML\""
   ]
  },
  {
   "cell_type": "markdown",
   "metadata": {},
   "source": [
    "## User actions\n",
    "\n",
    "1. Setup goals, to do or Activities in three level hierarchy\n",
    "    | setup | language | examples |\n",
    "    | --- | --- | --- |\n",
    "    | Project Titles or main activities | nouns | HomeChores, ClientProject1, KnowledgeBase |\n",
    "    | Tasks, phases or steps | verbs | dotfiles, cheatsheets, tutorials, document |\n",
    "    | Comment on each logged item | phrase | Commit message |\n",
    "\n",
    "1. Setup time durations in minutes:  \n",
    "    |   | suggested duration |\n",
    "    | --- | --- | \n",
    "    | Pomodoro | 30 - 60 |\n",
    "    | Short Break | 3 - 5 |\n",
    "    | Long breaks | 20 - 30 |\n",
    "  \n",
    "1. Start the App, with option to reload previous session data\n",
    "\n",
    "1. Exit the App with option to export session data\n",
    "\n",
    "1. Easily select the current Activity-Task, edit its Comment\n",
    "\n",
    "1. View current progress in pomodoros achieved\n",
    "\n",
    "1. __AUTO LOG__ \n",
    "    - Get notified that the current interval is ending with a sound\n",
    "    - At the end of the time interval the selected Activity-Task & Comment gets logged\n",
    "    - The user has all the interval to edit and select the desired item\n",
    "    \n",
    "1. __MANUAL LOG__\n",
    "    - Log an item completed earlier\n",
    "    - It's not possible to log when in break mode.\n",
    "    - TBD: \n",
    "        - If it's early on the interval record/award a minute break?\n",
    "        - If it's late trigger the break earlier?\n",
    "        - Force the user to change task description?  \n",
    "        \n",
    "## State change        \n",
    "1. Each pomodoro triggers a break, 4 pomodoros trigger a long break"
   ]
  },
  {
   "cell_type": "markdown",
   "metadata": {},
   "source": [
    "## Data Structure\n",
    "- Timers (str, int, file(wav))\n",
    " - Pomodoro\n",
    " - Short break\n",
    " - Long break  \n",
    "\n",
    "\n",
    "- To do (str, str, str)\n",
    " - Activity\n",
    "   - Tasks\n",
    "     - Comment  \n",
    "\n",
    "\n",
    "- Log (datetime, str, str, str)  \n",
    " - Timestamp, Activity, Task, Comment  \n",
    "\n",
    "## TBD\n",
    "\n",
    "- Stats \n",
    " - ? \\# pomodoros achieved?\n",
    " - ? \\# tasks logged?\n",
    "\n",
    " - ? Action\n",
    "   - Init: Chosen, Continued from last\n",
    "   - Finish: Timed out, completed earlier, inferred?\n",
    " - ? Cumulative breaks ?\n",
    "\n"
   ]
  },
  {
   "cell_type": "code",
   "execution_count": 1,
   "metadata": {},
   "outputs": [],
   "source": [
    "import pomodoro"
   ]
  },
  {
   "cell_type": "markdown",
   "metadata": {},
   "source": [
    "# Version 0\n",
    "- Durations are in seconds\n",
    "- Music plays for 20 at the start of each interval"
   ]
  },
  {
   "cell_type": "code",
   "execution_count": 2,
   "metadata": {},
   "outputs": [
    {
     "data": {
      "application/vnd.jupyter.widget-view+json": {
       "model_id": "146bae2dd0b64cdea890da81cff9c518",
       "version_major": 2,
       "version_minor": 0
      },
      "text/plain": [
       "PomoApp0(children=(Text(value='shortBreak->work', description='Status', layout=Layout(width='80%'), placeholde…"
      ]
     },
     "metadata": {},
     "output_type": "display_data"
    }
   ],
   "source": [
    "p = pomodoro.PomoApp0()\n",
    "p"
   ]
  },
  {
   "cell_type": "code",
   "execution_count": null,
   "metadata": {},
   "outputs": [],
   "source": []
  },
  {
   "cell_type": "code",
   "execution_count": null,
   "metadata": {},
   "outputs": [],
   "source": [
    "git commit -m \"astronomical example\" | fdobad/mandelbrot    ... Readme f(x,y) +,+ , +,- "
   ]
  }
 ],
 "metadata": {
  "kernelspec": {
   "display_name": "Python 3",
   "language": "python",
   "name": "python3"
  },
  "language_info": {
   "codemirror_mode": {
    "name": "ipython",
    "version": 3
   },
   "file_extension": ".py",
   "mimetype": "text/x-python",
   "name": "python",
   "nbconvert_exporter": "python",
   "pygments_lexer": "ipython3",
   "version": "3.7.3"
  },
  "widgets": {
   "application/vnd.jupyter.widget-state+json": {
    "state": {},
    "version_major": 2,
    "version_minor": 0
   }
  }
 },
 "nbformat": 4,
 "nbformat_minor": 4
}
