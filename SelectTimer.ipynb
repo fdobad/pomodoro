{
 "cells": [
  {
   "cell_type": "code",
   "execution_count": 1,
   "metadata": {},
   "outputs": [],
   "source": [
    "%gui asyncio\n",
    "import asyncio\n",
    "import ipywidgets as widgets\n",
    "from threading import Timer\n",
    "from pandas import DataFrame\n",
    "import qgrid\n",
    "from datetime import timedelta, datetime"
   ]
  },
  {
   "cell_type": "code",
   "execution_count": 2,
   "metadata": {},
   "outputs": [
    {
     "data": {
      "text/plain": [
       "[('scrambled', 0), ('sunny side up', 0), ('poached', 0), ('over easy', 0)]"
      ]
     },
     "execution_count": 2,
     "metadata": {},
     "output_type": "execute_result"
    }
   ],
   "source": [
    "names=['scrambled', 'sunny side up', 'poached', 'over easy']\n",
    "ini_val = 'sunny side up'\n",
    "list(zip(names,[0]*len(names)))"
   ]
  },
  {
   "cell_type": "code",
   "execution_count": 3,
   "metadata": {},
   "outputs": [],
   "source": [
    "df = DataFrame( data=zip(names,[0]*len(names)), columns=['name','time']) #, dtype=int 90,60,30\n",
    "df.set_index('name', inplace=True)\n",
    "qw = qgrid.show_grid( df, show_toolbar=False)"
   ]
  },
  {
   "cell_type": "code",
   "execution_count": 4,
   "metadata": {},
   "outputs": [
    {
     "data": {
      "application/vnd.jupyter.widget-view+json": {
       "model_id": "f625f49e51234f3da2eeb012ec6382e3",
       "version_major": 2,
       "version_minor": 0
      },
      "text/plain": [
       "HBox(children=(SelectionSlider(continuous_update=False, description='I like my eggs ...', index=1, layout=Layo…"
      ]
     },
     "metadata": {},
     "output_type": "display_data"
    },
    {
     "name": "stdout",
     "output_type": "stream",
     "text": [
      "did work 0\n"
     ]
    }
   ],
   "source": [
    "slider = widgets.SelectionSlider(\n",
    "    options=names,\n",
    "    value=ini_val,\n",
    "    description='I like my eggs ...',\n",
    "    disabled=False,\n",
    "    continuous_update=False,\n",
    "    orientation='vertical',\n",
    "    readout=True,\n",
    "    style = {'description_width': 'initial'},\n",
    "    layout = widgets.Layout( width='100%')\n",
    ")\n",
    "\n",
    "def wait_for_change(widget, value):\n",
    "    future = asyncio.Future()\n",
    "    def getvalue(change):\n",
    "        # make the new value available\n",
    "        future.set_result( (change.old, change.new) )\n",
    "        widget.unobserve(getvalue, value)\n",
    "    widget.observe(getvalue, value)\n",
    "    return future\n",
    "\n",
    "s = datetime.now()\n",
    "df['s'] = timedelta(seconds=0)\n",
    "\n",
    "async def f():\n",
    "    global s, df\n",
    "    for i in range(10):\n",
    "        print('did work %s'%i)\n",
    "        #df = qw.get_changed_df()\n",
    "        old, new = await wait_for_change(slider, 'value')\n",
    "        now = datetime.now()\n",
    "        d = now - s\n",
    "        df.loc[old,'s'] += d\n",
    "        df.loc[old,'time'] += round(d.total_seconds(),1)\n",
    "        s = now\n",
    "        #df.loc[old,'s'].round('s')\n",
    "        df.s = df.s.round('s')\n",
    "        #print('d',type(d),'df',type(df.loc[old,'s']))\n",
    "        qw.df = df\n",
    "        qw.change_selection([new])\n",
    "        print('async function continued with value %s,%s'%(old, new))\n",
    "\n",
    "asyncio.ensure_future(f())\n",
    "widgets.HBox([slider,qw])"
   ]
  },
  {
   "cell_type": "code",
   "execution_count": 5,
   "metadata": {},
   "outputs": [
    {
     "name": "stdout",
     "output_type": "stream",
     "text": [
      "did work 0\n"
     ]
    }
   ],
   "source": [
    "qw.change_selection([ini_val])"
   ]
  },
  {
   "cell_type": "code",
   "execution_count": 10,
   "metadata": {},
   "outputs": [
    {
     "data": {
      "text/html": [
       "<div>\n",
       "<style scoped>\n",
       "    .dataframe tbody tr th:only-of-type {\n",
       "        vertical-align: middle;\n",
       "    }\n",
       "\n",
       "    .dataframe tbody tr th {\n",
       "        vertical-align: top;\n",
       "    }\n",
       "\n",
       "    .dataframe thead th {\n",
       "        text-align: right;\n",
       "    }\n",
       "</style>\n",
       "<table border=\"1\" class=\"dataframe\">\n",
       "  <thead>\n",
       "    <tr style=\"text-align: right;\">\n",
       "      <th></th>\n",
       "      <th>time</th>\n",
       "      <th>s</th>\n",
       "    </tr>\n",
       "    <tr>\n",
       "      <th>name</th>\n",
       "      <th></th>\n",
       "      <th></th>\n",
       "    </tr>\n",
       "  </thead>\n",
       "  <tbody>\n",
       "    <tr>\n",
       "      <th>scrambled</th>\n",
       "      <td>86.3</td>\n",
       "      <td>0 days 00:01:26</td>\n",
       "    </tr>\n",
       "    <tr>\n",
       "      <th>sunny side up</th>\n",
       "      <td>14.7</td>\n",
       "      <td>0 days 00:00:15</td>\n",
       "    </tr>\n",
       "    <tr>\n",
       "      <th>poached</th>\n",
       "      <td>7.0</td>\n",
       "      <td>0 days 00:00:07</td>\n",
       "    </tr>\n",
       "    <tr>\n",
       "      <th>over easy</th>\n",
       "      <td>139.4</td>\n",
       "      <td>0 days 00:02:19</td>\n",
       "    </tr>\n",
       "  </tbody>\n",
       "</table>\n",
       "</div>"
      ],
      "text/plain": [
       "                time               s\n",
       "name                                \n",
       "scrambled       86.3 0 days 00:01:26\n",
       "sunny side up   14.7 0 days 00:00:15\n",
       "poached          7.0 0 days 00:00:07\n",
       "over easy      139.4 0 days 00:02:19"
      ]
     },
     "metadata": {},
     "output_type": "display_data"
    }
   ],
   "source": [
    "df = qw.get_changed_df()\n",
    "df.s = df.s.round('s')\n",
    "display(df)"
   ]
  },
  {
   "cell_type": "code",
   "execution_count": null,
   "metadata": {},
   "outputs": [],
   "source": []
  }
 ],
 "metadata": {
  "kernelspec": {
   "display_name": "Python 3",
   "language": "python",
   "name": "python3"
  },
  "language_info": {
   "codemirror_mode": {
    "name": "ipython",
    "version": 3
   },
   "file_extension": ".py",
   "mimetype": "text/x-python",
   "name": "python",
   "nbconvert_exporter": "python",
   "pygments_lexer": "ipython3",
   "version": "3.7.3"
  }
 },
 "nbformat": 4,
 "nbformat_minor": 4
}
