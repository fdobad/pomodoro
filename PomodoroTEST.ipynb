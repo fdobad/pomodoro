{
 "cells": [
  {
   "cell_type": "markdown",
   "metadata": {},
   "source": [
    "PomodoroAutoTracker"
   ]
  },
  {
   "cell_type": "code",
   "execution_count": 1,
   "metadata": {},
   "outputs": [],
   "source": [
    "from ipywidgets import VBox, HBox, FloatProgress, ToggleButtons, Text, Button, Tab, Layout\n",
    "from threading import Timer # start() cancel\n",
    "from multiprocessing import Process # terminate() start()\n",
    "from datetime import timedelta, datetime\n",
    "from time import sleep\n",
    "from pandas import DataFrame, DatetimeIndex\n",
    "import qgrid"
   ]
  },
  {
   "cell_type": "code",
   "execution_count": 2,
   "metadata": {},
   "outputs": [],
   "source": [
    "statuses = ['work','longBreak','shortBreak']\n",
    "cs = dict(zip(statuses,[0]*3))\n",
    "cs['pause']=0\n",
    "state, wait, when = 'work', 5, datetime.now()+timedelta(seconds=5)\n",
    "ttt, dnt, pp = None, None, None"
   ]
  },
  {
   "cell_type": "code",
   "execution_count": 3,
   "metadata": {},
   "outputs": [
    {
     "data": {
      "application/vnd.jupyter.widget-view+json": {
       "model_id": "0cbfe0acb4584ab68e97fee621689eda",
       "version_major": 2,
       "version_minor": 0
      },
      "text/plain": [
       "VBox(children=(VBox(children=(HBox(children=(ToggleButtons(icons=('play', 'pause', 'eject'), index=2, layout=L…"
      ]
     },
     "metadata": {},
     "output_type": "display_data"
    }
   ],
   "source": [
    "floatProgress = FloatProgress( description='FloatProgressFloatProgress', style = {'description_width': 'initial'} , layout=Layout(width='40%'))\n",
    "toggleButtons = ToggleButtons( options=['Start ', 'Pause ', 'Stop '], index=2, description='', \n",
    "                                  icons=['play', 'pause', 'eject'], disabled=False, button_style='', layout=Layout(width='40%'))\n",
    "\n",
    "snoozeButton = Button( description='Add a minute', tooltip='Delay next log', icon='history') #calendar-plus-o\n",
    "nextButton = Button( description='Finish early', tooltip='Log & skip to next', icon='fast-forward' ) #check\n",
    "statusText = Text( description='Status', placeholder='CurrentStatus - due in hh:mm | Action', layout=Layout(width='80%'))#style = {'description_width': 'initial'},\n",
    "\n",
    "# setup times\n",
    "df_times = DataFrame(data=[24,18,3],index=statuses,columns=['Duration(min)'],dtype=int) #90,60,30\n",
    "qw_times = qgrid.show_grid(df_times, show_toolbar=False)\n",
    "\n",
    "# activities\n",
    "df_todo = DataFrame(data=[['Planning','default task','commit message', True],\n",
    "                             ['Chores'  ,'Dishes'      ,'hate it!', False]], \n",
    "                     columns=['Activity','Task','Comment', 'Success'] )\n",
    "df_todo.index.set_names('indexName', inplace=True)\n",
    "qw_todo = qgrid.show_grid(df_todo, show_toolbar=True, column_definitions={'indexName':{'width':37},'Success':{'width':16}})\n",
    "# log\n",
    "df_log = DataFrame(data  =[['App','Started','Hello world!', True ]], \n",
    "                     index=DatetimeIndex([datetime.now()], name='DatetimeIndex'),\n",
    "                     columns=['Activity','Task','Comment','Success'] )\n",
    "qw_log = qgrid.show_grid(df_log, show_toolbar=False, column_definitions={'DatetimeIndex':{'width':40},'Success':{'width':16}})\n",
    "# sum\n",
    "df_sum = DataFrame( columns=['Cumulative'], dtype='timedelta64[ns]' )\n",
    "qw_sum = qgrid.show_grid( df_sum)\n",
    "\n",
    "# layout\n",
    "upperbox = VBox([ HBox([ toggleButtons, floatProgress]),\n",
    "                  HBox([ nextButton   , snoozeButton ]),\n",
    "                 statusText ])\n",
    "tab = Tab(children = [qw_todo, qw_log, qw_times, qw_sum ])\n",
    "tab.set_title(0, 'Activities')\n",
    "tab.set_title(1, 'Log')\n",
    "tab.set_title(2, 'TimeSetup')\n",
    "tab.set_title(3, 'Summary')\n",
    "VBox( [ upperbox, tab] )"
   ]
  },
  {
   "cell_type": "code",
   "execution_count": 4,
   "metadata": {},
   "outputs": [],
   "source": [
    "def display_tick(wait, when):\n",
    "    #print('display_tick', end=';')\n",
    "    global floatProgress\n",
    "    delta = when - datetime.now()\n",
    "    c = 100 * ( 1 - delta.total_seconds() / wait )\n",
    "    if c < 15:\n",
    "        floatProgress.bar_style = 'success' #green\n",
    "    elif c < 50:\n",
    "        floatProgress.bar_style = '' #blue\n",
    "    elif c < 70:\n",
    "        floatProgress.bar_style = 'info' #light blue\n",
    "    elif c < 85:\n",
    "        floatProgress.bar_style = 'warning' #orange\n",
    "    else:\n",
    "        floatProgress.bar_style = 'danger' #red\n",
    "    floatProgress.description = state+' '+str(delta).split('.')[0] \n",
    "    floatProgress.value = c\n",
    "\n",
    "def tick_timer( wait, when):\n",
    "    #print('tick_timer', end=';')\n",
    "    global ttt\n",
    "    if when > datetime.now():\n",
    "        display_tick( wait, when)\n",
    "    if when+timedelta(seconds=3.0) > datetime.now():\n",
    "        ttt = Timer(3.0, tick_timer, args=( wait, when)) #Timer(interval, function, args=None, kwargs=None) start, cancel\n",
    "        ttt.start()\n",
    "    \n",
    "def doNext():\n",
    "    #print('do next', end=';')\n",
    "    global state, cs, wait\n",
    "    log()\n",
    "    oldState=state\n",
    "    cs[state]+=1\n",
    "    if state=='work':\n",
    "        if cs[state]%4 == 0:\n",
    "            state='longBreak'\n",
    "        else:\n",
    "            state='shortBreak'\n",
    "    elif state=='shortBreak' or 'longBreak':\n",
    "        state='work'\n",
    "    else:\n",
    "        print('wtf!')\n",
    "        return\n",
    "    print('%s->%s'%(oldState,state))\n",
    "    wait=int(qw_times.get_changed_df().loc[state,'Duration(min)'])\n",
    "    waitFor(wait)\n",
    "    \n",
    "def waitFor(wait):\n",
    "    print('waitFor', wait, end=';')\n",
    "    global when, dnt #, ttt\n",
    "    statusText.value = 'state:{}, wait:{}, cs:{}'.format(state, wait, cs)\n",
    "    when = datetime.now()+timedelta(seconds=wait)\n",
    "    dnt = Timer(wait, doNext) #, args=(qw_times,)\n",
    "    dnt.start()\n",
    "    tick_timer(wait, when)\n",
    "    #ttt = Timer(2.0, tick_timer, args=(wait, when))\n",
    "    #ttt.start()\n",
    "\n",
    "def stopAll():\n",
    "    print('stopAll', end=';')\n",
    "    global ttt, dnt\n",
    "    if dnt!=None and dnt.is_alive():\n",
    "        dnt.cancel()\n",
    "        dnt.join()\n",
    "    if ttt!=None and ttt.is_alive():\n",
    "        ttt.cancel()\n",
    "        ttt.join()\n",
    "    sleep(0.1)\n",
    "    \n",
    "def toggleButtonsHandler(event):\n",
    "    print('toggleButtonsHandler', end=';')\n",
    "    global wait, when, state\n",
    "    if event['name'] == 'label':\n",
    "        #print([ (k,event[k]) for k in event.keys()])\n",
    "        if event['new'] == 'Start ' and event['old']!='Pause ':\n",
    "            print('button start')\n",
    "            doNext()\n",
    "        elif event['new'] == 'Pause ':\n",
    "            print('button pause')\n",
    "            stopAll()\n",
    "            wait = int((when - datetime.now()).total_seconds())\n",
    "            log()\n",
    "        elif event['new'] == 'Start ' and event['old']=='Pause ':\n",
    "            print('button REstart')\n",
    "            oldState=state\n",
    "            state='pause'\n",
    "            cs[state]+=1\n",
    "            log()\n",
    "            state = oldState\n",
    "            waitFor(wait)\n",
    "        elif event['new'] == 'Stop ':\n",
    "            print('button stop')\n",
    "            stopAll()\n",
    "\n",
    "def log():\n",
    "    global qw_log\n",
    "    sr = qw_todo.get_selected_rows()[0]\n",
    "    if state=='work':\n",
    "        qw_log.add_row( [ ('DatetimeIndex',datetime.now()) ]+ list(qw_todo.get_changed_df().loc[sr].items()) )\n",
    "        qw_todo.edit_cell(sr, 'Success', False)\n",
    "    else:\n",
    "        qw_log.add_row( [ ('DatetimeIndex',datetime.now()), ('Activity',state), ('Task',state),('Comment',cs[state]), ('Success',False) ] )\n",
    "\n",
    "def snoozeButtonHandler(event):\n",
    "    print('snoozeButtonHandler')\n",
    "    global wait\n",
    "    stopAll()\n",
    "    wait = int((when - datetime.now()).total_seconds() + 60 )\n",
    "    waitFor(wait)\n",
    "        \n",
    "def nextButtonHandler(event):\n",
    "    print('nextButtonHandler')\n",
    "    global wait\n",
    "    stopAll()\n",
    "    doNext()\n",
    "\n",
    "nextButton.on_click(nextButtonHandler)\n",
    "snoozeButton.on_click(snoozeButtonHandler)\n",
    "toggleButtons.observe(toggleButtonsHandler)"
   ]
  },
  {
   "cell_type": "code",
   "execution_count": 5,
   "metadata": {},
   "outputs": [],
   "source": [
    "def tabhandler(event):\n",
    "    global df_sum, qw_sum\n",
    "    #print(event.keys())\n",
    "    #print([ (k,event[k]) for k in event.keys()])\n",
    "    if tab.selected_index == 3:\n",
    "        print('tabhandler')\n",
    "        df = qw_log.get_changed_df()\n",
    "        df['Cumulative'] = df.index.to_series().diff()\n",
    "        df_sum = DataFrame( df[1:].groupby(['Success','Activity','Task']).Cumulative.sum() )\n",
    "        qw_sum.df = df_sum\n",
    "        \n",
    "tab.observe(tabhandler)"
   ]
  },
  {
   "cell_type": "code",
   "execution_count": 6,
   "metadata": {},
   "outputs": [],
   "source": [
    "qw_todo.change_selection([0])"
   ]
  },
  {
   "cell_type": "raw",
   "metadata": {},
   "source": [
    "df = qw_log.get_changed_df()\n",
    "df['dur'] = df.index.to_series().diff()\n",
    "df"
   ]
  },
  {
   "cell_type": "raw",
   "metadata": {},
   "source": [
    "df[1:].Activity.unique()"
   ]
  },
  {
   "cell_type": "raw",
   "metadata": {},
   "source": [
    "df[1:].groupby(['Activity','Task']).dur.sum()"
   ]
  },
  {
   "cell_type": "raw",
   "metadata": {},
   "source": [
    "df[df['Activity']=='Chores'].dur.sum()\n",
    "df[df['Activity']=='pause'].dur.sum()"
   ]
  },
  {
   "cell_type": "code",
   "execution_count": 24,
   "metadata": {},
   "outputs": [
    {
     "data": {
      "application/vnd.jupyter.widget-view+json": {
       "model_id": "1614e56cd74f4f1593e6d05362908c12",
       "version_major": 2,
       "version_minor": 0
      },
      "text/plain": [
       "QgridWidget(grid_options={'fullWidthRows': True, 'syncColumnCellResize': True, 'forceFitColumns': True, 'defau…"
      ]
     },
     "metadata": {},
     "output_type": "display_data"
    }
   ],
   "source": [
    "df = qw_log.get_changed_df()\n",
    "df['Cumulative'] = df.index.to_series().diff()\n",
    "qgrid.show_grid( DataFrame( df[1:].groupby(['Success','Activity','Task']).Cumulative.sum() , columns=['Cumulative'], dtype='timedelta64[ns]' ), show_toolbar=False )"
   ]
  },
  {
   "cell_type": "code",
   "execution_count": 29,
   "metadata": {},
   "outputs": [
    {
     "data": {
      "text/plain": [
       "Success  Activity    Task                       \n",
       "False    Chores      asdfas                        0 days 00:02:03.827848\n",
       "         Planning    default task task task task   0 days 00:00:05.837953\n",
       "         longBreak   longBreak                     0 days 00:00:20.417678\n",
       "         shortBreak  shortBreak                    0 days 00:00:27.336437\n",
       "True     Chores      Dishes                        0 days 00:00:05.195010\n",
       "         Planning    default task                  0 days 00:00:21.421315\n",
       "                     default task task             0 days 00:00:09.378551\n",
       "Name: Cumulative, dtype: timedelta64[ns]"
      ]
     },
     "execution_count": 29,
     "metadata": {},
     "output_type": "execute_result"
    }
   ],
   "source": [
    "a = df[1:].groupby(['Success','Activity','Task']).Cumulative.sum()\n",
    "a"
   ]
  },
  {
   "cell_type": "code",
   "execution_count": 44,
   "metadata": {},
   "outputs": [
    {
     "data": {
      "text/plain": [
       "Success  Activity    Task                       \n",
       "False    Chores      asdfas                        0 days 00:02:03.827848\n",
       "         Planning    default task task task task   0 days 00:00:05.837953\n",
       "         longBreak   longBreak                     0 days 00:00:20.417678\n",
       "         shortBreak  shortBreak                    0 days 00:00:27.336437\n",
       "True     Chores      Dishes                        0 days 00:00:05.195010\n",
       "         Planning    default task                  0 days 00:00:21.421315\n",
       "                     default task task             0 days 00:00:09.378551\n",
       "Name: Cumulative, dtype: timedelta64[ns]"
      ]
     },
     "execution_count": 44,
     "metadata": {},
     "output_type": "execute_result"
    }
   ],
   "source": [
    "pd.Timedelta.resolution = pd.Timedelta('0 days 00:00:00')\n",
    "a\n",
    "#pd.Timedelta.round(a.iloc[0])"
   ]
  },
  {
   "cell_type": "code",
   "execution_count": 43,
   "metadata": {},
   "outputs": [
    {
     "data": {
      "application/vnd.jupyter.widget-view+json": {
       "model_id": "38c3dd385fa44fcba8c11dbe23f002f0",
       "version_major": 2,
       "version_minor": 0
      },
      "text/plain": [
       "QgridWidget(grid_options={'fullWidthRows': True, 'syncColumnCellResize': True, 'forceFitColumns': True, 'defau…"
      ]
     },
     "metadata": {},
     "output_type": "display_data"
    }
   ],
   "source": [
    "qgrid.show_grid( a )"
   ]
  },
  {
   "cell_type": "code",
   "execution_count": 74,
   "metadata": {},
   "outputs": [
    {
     "data": {
      "text/plain": [
       "[(123, 2.0, 3, datetime.timedelta(seconds=123, microseconds=827848)),\n",
       " (5, 0.0, 5, datetime.timedelta(seconds=5, microseconds=837953)),\n",
       " (20, 0.0, 20, datetime.timedelta(seconds=20, microseconds=417678)),\n",
       " (27, 0.0, 27, datetime.timedelta(seconds=27, microseconds=336437)),\n",
       " (5, 0.0, 5, datetime.timedelta(seconds=5, microseconds=195010)),\n",
       " (21, 0.0, 21, datetime.timedelta(seconds=21, microseconds=421315)),\n",
       " (9, 0.0, 9, datetime.timedelta(seconds=9, microseconds=378551))]"
      ]
     },
     "execution_count": 74,
     "metadata": {},
     "output_type": "execute_result"
    }
   ],
   "source": [
    "#a.values.total_seconds() #*1e-9\n",
    "[ (v.seconds, v.total_seconds()//60, v.seconds%60, v.to_pytimedelta()) for v in a]"
   ]
  },
  {
   "cell_type": "code",
   "execution_count": 69,
   "metadata": {},
   "outputs": [
    {
     "ename": "AttributeError",
     "evalue": "'Series' object has no attribute 'ctime'",
     "output_type": "error",
     "traceback": [
      "\u001b[0;31m---------------------------------------------------------------------------\u001b[0m",
      "\u001b[0;31mAttributeError\u001b[0m                            Traceback (most recent call last)",
      "\u001b[0;32m<ipython-input-69-6503a7dfe06b>\u001b[0m in \u001b[0;36m<module>\u001b[0;34m\u001b[0m\n\u001b[0;32m----> 1\u001b[0;31m \u001b[0ma\u001b[0m\u001b[0;34m.\u001b[0m\u001b[0mctime\u001b[0m\u001b[0;34m(\u001b[0m\u001b[0;34m)\u001b[0m\u001b[0;34m\u001b[0m\u001b[0;34m\u001b[0m\u001b[0m\n\u001b[0m",
      "\u001b[0;32m~/Source/py3env/lib/python3.7/site-packages/pandas/core/generic.py\u001b[0m in \u001b[0;36m__getattr__\u001b[0;34m(self, name)\u001b[0m\n\u001b[1;32m   5128\u001b[0m             \u001b[0;32mif\u001b[0m \u001b[0mself\u001b[0m\u001b[0;34m.\u001b[0m\u001b[0m_info_axis\u001b[0m\u001b[0;34m.\u001b[0m\u001b[0m_can_hold_identifiers_and_holds_name\u001b[0m\u001b[0;34m(\u001b[0m\u001b[0mname\u001b[0m\u001b[0;34m)\u001b[0m\u001b[0;34m:\u001b[0m\u001b[0;34m\u001b[0m\u001b[0;34m\u001b[0m\u001b[0m\n\u001b[1;32m   5129\u001b[0m                 \u001b[0;32mreturn\u001b[0m \u001b[0mself\u001b[0m\u001b[0;34m[\u001b[0m\u001b[0mname\u001b[0m\u001b[0;34m]\u001b[0m\u001b[0;34m\u001b[0m\u001b[0;34m\u001b[0m\u001b[0m\n\u001b[0;32m-> 5130\u001b[0;31m             \u001b[0;32mreturn\u001b[0m \u001b[0mobject\u001b[0m\u001b[0;34m.\u001b[0m\u001b[0m__getattribute__\u001b[0m\u001b[0;34m(\u001b[0m\u001b[0mself\u001b[0m\u001b[0;34m,\u001b[0m \u001b[0mname\u001b[0m\u001b[0;34m)\u001b[0m\u001b[0;34m\u001b[0m\u001b[0;34m\u001b[0m\u001b[0m\n\u001b[0m\u001b[1;32m   5131\u001b[0m \u001b[0;34m\u001b[0m\u001b[0m\n\u001b[1;32m   5132\u001b[0m     \u001b[0;32mdef\u001b[0m \u001b[0m__setattr__\u001b[0m\u001b[0;34m(\u001b[0m\u001b[0mself\u001b[0m\u001b[0;34m,\u001b[0m \u001b[0mname\u001b[0m\u001b[0;34m:\u001b[0m \u001b[0mstr\u001b[0m\u001b[0;34m,\u001b[0m \u001b[0mvalue\u001b[0m\u001b[0;34m)\u001b[0m \u001b[0;34m->\u001b[0m \u001b[0;32mNone\u001b[0m\u001b[0;34m:\u001b[0m\u001b[0;34m\u001b[0m\u001b[0;34m\u001b[0m\u001b[0m\n",
      "\u001b[0;31mAttributeError\u001b[0m: 'Series' object has no attribute 'ctime'"
     ]
    }
   ],
   "source": [
    "a.ctime()"
   ]
  },
  {
   "cell_type": "code",
   "execution_count": 7,
   "metadata": {},
   "outputs": [],
   "source": [
    "df = qw_log.get_changed_df()\n",
    "df['Cumulative'] = df.index.to_series().diff()\n",
    "df_sum = DataFrame( df[1:].groupby(['Success','Activity','Task']).Cumulative.sum() )\n",
    "qw_sum.df = df_sum"
   ]
  },
  {
   "cell_type": "code",
   "execution_count": null,
   "metadata": {},
   "outputs": [],
   "source": []
  }
 ],
 "metadata": {
  "kernelspec": {
   "display_name": "Python 3",
   "language": "python",
   "name": "python3"
  },
  "language_info": {
   "codemirror_mode": {
    "name": "ipython",
    "version": 3
   },
   "file_extension": ".py",
   "mimetype": "text/x-python",
   "name": "python",
   "nbconvert_exporter": "python",
   "pygments_lexer": "ipython3",
   "version": "3.7.3"
  },
  "widgets": {
   "application/vnd.jupyter.widget-state+json": {
    "state": {},
    "version_major": 2,
    "version_minor": 0
   }
  }
 },
 "nbformat": 4,
 "nbformat_minor": 4
}
