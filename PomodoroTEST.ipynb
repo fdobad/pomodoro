{
 "cells": [
  {
   "cell_type": "markdown",
   "metadata": {},
   "source": [
    "PomodoroAutoTracker"
   ]
  },
  {
   "cell_type": "code",
   "execution_count": null,
   "metadata": {},
   "outputs": [],
   "source": [
    "from IPython.display import display, clear_output\n",
    "from ipywidgets import VBox, HBox, FloatProgress, ToggleButtons, Text, Button, Tab, Layout, Output\n",
    "from threading import Timer # start() cancel\n",
    "from multiprocessing import Process # terminate() start()\n",
    "from datetime import timedelta, datetime\n",
    "from time import sleep\n",
    "from pandas import DataFrame, DatetimeIndex\n",
    "import qgrid"
   ]
  },
  {
   "cell_type": "code",
   "execution_count": null,
   "metadata": {},
   "outputs": [],
   "source": [
    "statuses = ['work','longBreak','shortBreak']\n",
    "cs = dict(zip(statuses,[0]*3))\n",
    "cs['pause']=0\n",
    "state, wait, when = 'work', 5, datetime.now()+timedelta(seconds=5)\n",
    "ttt, dnt, pp = None, None, None"
   ]
  },
  {
   "cell_type": "code",
   "execution_count": null,
   "metadata": {},
   "outputs": [],
   "source": [
    "floatProgress = FloatProgress( description='FloatProgressFloatProgress', style = {'description_width': 'initial'} , layout=Layout(width='40%'))\n",
    "toggleButtons = ToggleButtons( options=['Start ', 'Pause ', 'Stop '], index=2, description='', \n",
    "                                  icons=['play', 'pause', 'eject'], disabled=False, button_style='', layout=Layout(width='40%'))\n",
    "\n",
    "snoozeButton = Button( description='Add a minute', tooltip='Delay next log', icon='history') #calendar-plus-o\n",
    "nextButton = Button( description='Finish early', tooltip='Log & skip to next', icon='fast-forward' ) #check\n",
    "statusText = Text( description='Status', placeholder='CurrentStatus - due in hh:mm | Action', layout=Layout(width='80%'))#style = {'description_width': 'initial'},\n",
    "\n",
    "# setup times\n",
    "df_times = DataFrame( data=[24,18,3], index=statuses, columns=['Duration(min)'], dtype=int) #90,60,30\n",
    "df_times.index.set_names('indexName', inplace=True)\n",
    "qw_times = qgrid.show_grid( df_times, show_toolbar=False)\n",
    "\n",
    "# activities\n",
    "df_todo = DataFrame( data=[['Planning','default task','commit message', True],\n",
    "                             ['Chores'  ,'Dishes'      ,'hate it!', False]], \n",
    "                     columns=['Activity','Task','Comment', 'Success'] )\n",
    "df_todo.index.set_names('indexName', inplace=True)\n",
    "qw_todo = qgrid.show_grid( df_todo, show_toolbar=True, column_definitions={'indexName':{'width':37},'Success':{'width':16}})\n",
    "# log\n",
    "df_log = DataFrame( data=[['App','Started','Hello world!', True ]], \n",
    "                     index=DatetimeIndex([datetime.now()], name='DatetimeIndex'),\n",
    "                     columns=['Activity','Task','Comment','Success'] )\n",
    "qw_log = qgrid.show_grid( df_log, show_toolbar=False, column_definitions={'DatetimeIndex':{'width':40},'Success':{'width':16}})\n",
    "# achievements\n",
    "outputA = Output()\n",
    "outputB = Output()\n",
    "achievementsButton = Button( description='View achievements', tooltip='Count and sum cumulative time', icon='flag-checkered', style = {'description_width': 'initial'})\n",
    "\n",
    "# layout\n",
    "upperbox = VBox([ HBox([ toggleButtons, floatProgress]),\n",
    "                  HBox([ nextButton   , snoozeButton, achievementsButton ]),\n",
    "                 statusText ])\n",
    "tab = Tab(children = [qw_todo, qw_log, qw_times])\n",
    "tab.set_title(0, 'Activities')\n",
    "tab.set_title(1, 'Log')\n",
    "tab.set_title(2, 'TimeSetup')\n",
    "VBox([ upperbox, tab, HBox([outputA,outputB], layout=Layout(justify_content='space-around')) ])"
   ]
  },
  {
   "cell_type": "code",
   "execution_count": null,
   "metadata": {},
   "outputs": [],
   "source": [
    "def display_tick(wait, when):\n",
    "    #print('display_tick', end=';')\n",
    "    global floatProgress\n",
    "    delta = when - datetime.now()\n",
    "    c = 100 * ( 1 - delta.total_seconds() / wait )\n",
    "    if c < 15:\n",
    "        floatProgress.bar_style = 'success' #green\n",
    "    elif c < 50:\n",
    "        floatProgress.bar_style = '' #blue\n",
    "    elif c < 70:\n",
    "        floatProgress.bar_style = 'info' #light blue\n",
    "    elif c < 85:\n",
    "        floatProgress.bar_style = 'warning' #orange\n",
    "    else:\n",
    "        floatProgress.bar_style = 'danger' #red\n",
    "    floatProgress.description = state+' '+str(delta).split('.')[0] \n",
    "    floatProgress.value = c\n",
    "\n",
    "def tick_timer( wait, when):\n",
    "    #print('tick_timer', end=';')\n",
    "    global ttt\n",
    "    if when > datetime.now():\n",
    "        display_tick( wait, when)\n",
    "    if when+timedelta(seconds=3.0) > datetime.now():\n",
    "        ttt = Timer(3.0, tick_timer, args=( wait, when)) #Timer(interval, function, args=None, kwargs=None) start, cancel\n",
    "        ttt.start()\n",
    "    \n",
    "def doNext():\n",
    "    #print('do next', end=';')\n",
    "    global state, cs, wait\n",
    "    log()\n",
    "    oldState=state\n",
    "    cs[state]+=1\n",
    "    if state=='work':\n",
    "        if cs[state]%4 == 0:\n",
    "            state='longBreak'\n",
    "        else:\n",
    "            state='shortBreak'\n",
    "    elif state=='shortBreak' or 'longBreak':\n",
    "        state='work'\n",
    "    else:\n",
    "        print('wtf!')\n",
    "        return\n",
    "    print('%s->%s'%(oldState,state))\n",
    "    wait=int(qw_times.get_changed_df().loc[state,'Duration(min)'])\n",
    "    waitFor(wait)\n",
    "    \n",
    "def waitFor(wait):\n",
    "    print('waitFor', wait, end=';')\n",
    "    global when, dnt #, ttt\n",
    "    statusText.value = 'state:{}, wait:{}, cs:{}'.format(state, wait, cs)\n",
    "    when = datetime.now()+timedelta(seconds=wait)\n",
    "    dnt = Timer(wait, doNext) #, args=(qw_times,)\n",
    "    dnt.start()\n",
    "    tick_timer(wait, when)\n",
    "    #ttt = Timer(2.0, tick_timer, args=(wait, when))\n",
    "    #ttt.start()\n",
    "\n",
    "def stopAll():\n",
    "    print('stopAll', end=';')\n",
    "    global ttt, dnt\n",
    "    if dnt!=None and dnt.is_alive():\n",
    "        dnt.cancel()\n",
    "        dnt.join()\n",
    "    if ttt!=None and ttt.is_alive():\n",
    "        ttt.cancel()\n",
    "        ttt.join()\n",
    "    sleep(0.1)\n",
    "    \n",
    "def toggleButtonsHandler(event):\n",
    "    print('toggleButtonsHandler', end=';')\n",
    "    global wait, when, state\n",
    "    if event['name'] == 'label':\n",
    "        #print([ (k,event[k]) for k in event.keys()])\n",
    "        if event['new'] == 'Start ' and event['old']!='Pause ':\n",
    "            print('button start')\n",
    "            doNext()\n",
    "        elif event['new'] == 'Pause ':\n",
    "            print('button pause')\n",
    "            stopAll()\n",
    "            wait = int((when - datetime.now()).total_seconds())\n",
    "            log()\n",
    "        elif event['new'] == 'Start ' and event['old']=='Pause ':\n",
    "            print('button REstart')\n",
    "            oldState=state\n",
    "            state='pause'\n",
    "            cs[state]+=1\n",
    "            log()\n",
    "            state = oldState\n",
    "            waitFor(wait)\n",
    "        elif event['new'] == 'Stop ':\n",
    "            print('button stop')\n",
    "            stopAll()\n",
    "\n",
    "def log():\n",
    "    global qw_log\n",
    "    sr = qw_todo.get_selected_rows()[0]\n",
    "    if state=='work':\n",
    "        qw_log.add_row( [ ('DatetimeIndex',datetime.now()) ]+ list(qw_todo.get_changed_df().loc[sr].items()) )\n",
    "        qw_todo.edit_cell(sr, 'Success', False)\n",
    "    else:\n",
    "        qw_log.add_row( [ ('DatetimeIndex',datetime.now()), ('Activity',state), ('Task',state),('Comment',cs[state]), ('Success',False) ] )\n",
    "\n",
    "def snoozeButtonHandler(event):\n",
    "    print('snoozeButtonHandler')\n",
    "    global wait\n",
    "    stopAll()\n",
    "    wait = int((when - datetime.now()).total_seconds() + 60 )\n",
    "    waitFor(wait)\n",
    "        \n",
    "def nextButtonHandler(event):\n",
    "    print('nextButtonHandler')\n",
    "    global wait\n",
    "    stopAll()\n",
    "    doNext()\n",
    "\n",
    "nextButton.on_click(nextButtonHandler)\n",
    "snoozeButton.on_click(snoozeButtonHandler)\n",
    "toggleButtons.observe(toggleButtonsHandler)"
   ]
  },
  {
   "cell_type": "code",
   "execution_count": null,
   "metadata": {},
   "outputs": [],
   "source": [
    "def achievementsHandler(event):\n",
    "    global outputA, outputB\n",
    "    if len(qw_log.get_changed_df())>4:\n",
    "        print('achievements', end=';')\n",
    "        df = qw_log.get_changed_df()\n",
    "        df['Cumulative'] = df.index.to_series().diff()\n",
    "        df_A = DataFrame( df[1:].groupby(['Success','Activity','Task']).Cumulative.sum() )\n",
    "        df_A['Count'] = df[1:].groupby(['Success','Activity','Task']).Cumulative.count()\n",
    "        #df_A.sort_values('Success', ascending=False, inplace=True)\n",
    "        df_A.Cumulative = df_A.Cumulative.round('s')\n",
    "        df_B = DataFrame( df[1:].groupby(['Activity','Task']).Cumulative.sum() )\n",
    "        df_B['Count'] = df[1:].groupby(['Activity','Task']).Cumulative.count()\n",
    "        df_B.Cumulative = df_B.Cumulative.round('s')\n",
    "        with outputA:\n",
    "            clear_output()\n",
    "            display(df_A)\n",
    "        with outputB:\n",
    "            clear_output() #wait=True\n",
    "            display(df_B)\n",
    "            #print('Updated summary @', datetime.now().strftime('%X'))\n",
    "            \n",
    "achievementsButton.on_click(achievementsHandler)"
   ]
  },
  {
   "cell_type": "code",
   "execution_count": null,
   "metadata": {},
   "outputs": [],
   "source": [
    "qw_todo.change_selection([0])"
   ]
  },
  {
   "cell_type": "markdown",
   "metadata": {},
   "source": [
    "# Export settings"
   ]
  },
  {
   "cell_type": "code",
   "execution_count": null,
   "metadata": {},
   "outputs": [],
   "source": [
    "qw_log.get_changed_df().to_csv('log.csv')\n",
    "qw_times.get_changed_df().to_csv('setup.csv')\n",
    "qw_todo.get_changed_df().to_csv('todo.csv')"
   ]
  },
  {
   "cell_type": "markdown",
   "metadata": {},
   "source": [
    "# Import settings"
   ]
  },
  {
   "cell_type": "code",
   "execution_count": null,
   "metadata": {},
   "outputs": [],
   "source": [
    "from os.path import isfile\n",
    "from pandas import read_csv\n",
    "filenames=['todo.csv','log.csv','setup.csv']\n",
    "for filename in filenames:\n",
    "    if isfile(filename):\n",
    "        df=read_csv(filename)\n",
    "        if filename=='log.csv':\n",
    "            df.set_index('DatetimeIndex', inplace=True)\n",
    "            qw_log.df = df\n",
    "        else:\n",
    "            df.set_index('indexName', inplace=True)\n",
    "            if filename=='todo.csv':    \n",
    "                qw_todo.df = df\n",
    "            if filename=='setup.csv':\n",
    "                qw_times.df = df"
   ]
  },
  {
   "cell_type": "markdown",
   "metadata": {},
   "source": [
    "# log calcs"
   ]
  },
  {
   "cell_type": "code",
   "execution_count": null,
   "metadata": {},
   "outputs": [],
   "source": [
    "df = qw_log.get_changed_df()\n",
    "df['Cumulative'] = df.index.to_series().diff()\n",
    "df_A = DataFrame( df[1:].groupby(['Success','Activity','Task']).Cumulative.sum() )\n",
    "df_A['Count'] = df[1:].groupby(['Success','Activity','Task']).Cumulative.count()\n",
    "df_A.Cumulative = df_A.Cumulative.round('s')\n",
    "df_A"
   ]
  },
  {
   "cell_type": "code",
   "execution_count": null,
   "metadata": {},
   "outputs": [],
   "source": []
  }
 ],
 "metadata": {
  "kernelspec": {
   "display_name": "Python 3",
   "language": "python",
   "name": "python3"
  },
  "language_info": {
   "codemirror_mode": {
    "name": "ipython",
    "version": 3
   },
   "file_extension": ".py",
   "mimetype": "text/x-python",
   "name": "python",
   "nbconvert_exporter": "python",
   "pygments_lexer": "ipython3",
   "version": "3.7.3"
  },
  "widgets": {
   "application/vnd.jupyter.widget-state+json": {
    "state": {},
    "version_major": 2,
    "version_minor": 0
   }
  }
 },
 "nbformat": 4,
 "nbformat_minor": 4
}
